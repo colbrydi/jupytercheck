{
 "cells": [
  {
   "cell_type": "markdown",
   "metadata": {},
   "source": [
    "# JupyterCheck Tutorial\n",
    "\n",
    "The ```jupytercheck``` library is intended to provide students with immediate feedback to check answers inside of a Jupyter notebook.  This was written with a Linear Algebra class in mind so it tries to do a robust comparison and take into consideration different object types as well as round off errors.\n",
    "\n",
    "\n",
    "It works by providing a function called ```answercheck``` that takes in a variable to be checked and a \"hash\" which is a one-way function encoding the answer. The program generates a new hash based on the input variable and compares the two hash values. An output is provided that the answer appears correct or incorrect. \n",
    "\n",
    "The program is also designed to run without installing anything in python. However, it does require the download of the correct file.  This can be accomplished using the following code in each notebook:\n"
   ]
  },
  {
   "cell_type": "code",
   "execution_count": null,
   "metadata": {},
   "outputs": [],
   "source": [
    "# import os.path\n",
    "# if not os.path.isfile(\"answercheck.py\"):\n",
    "#     from urllib.request import urlretrieve\n",
    "#     urlretrieve(\"https://raw.githubusercontent.com/colbrydi/jupytercheck/master/answercheck.py\", \"answercheck.py\");"
   ]
  },
  {
   "cell_type": "markdown",
   "metadata": {},
   "source": [
    "Then we import checkanswer from answercheck."
   ]
  },
  {
   "cell_type": "code",
   "execution_count": null,
   "metadata": {},
   "outputs": [],
   "source": [
    "from answercheck import checkanswer\n",
    "# This turns off detailed warnings\n",
    "checkanswer.detailedwarnings = False"
   ]
  },
  {
   "cell_type": "markdown",
   "metadata": {},
   "source": [
    "The following is a list of different types of check functions:"
   ]
  },
  {
   "cell_type": "code",
   "execution_count": null,
   "metadata": {},
   "outputs": [],
   "source": [
    "checktypes = [name for name in dir(checkanswer) if not \"__\" in name] \n",
    "checktypes"
   ]
  },
  {
   "cell_type": "markdown",
   "metadata": {},
   "source": [
    "To generate a hash, you pass the variable to the specific function without a hash (or a wrong hash) and it will tell you the correct hash in the error message. For example the following code will end with the statement:\n",
    "\n",
    "    TypeError: No answer hastag provided: d487dd0b55dfcacdd920ccbdaeafa351\n",
    "    \n",
    "In this case the has is  d487dd0b55dfcacdd920ccbdaeafa351"
   ]
  },
  {
   "cell_type": "code",
   "execution_count": null,
   "metadata": {},
   "outputs": [],
   "source": [
    "f = \"yellow\"\n",
    "checkanswer.basic(f)"
   ]
  },
  {
   "cell_type": "markdown",
   "metadata": {},
   "source": [
    "The function ```checkanswer.float()``` also ensures the answer is a float and takes into account round off error."
   ]
  },
  {
   "cell_type": "code",
   "execution_count": null,
   "metadata": {},
   "outputs": [],
   "source": [
    "f = 0.0110001\n",
    "checkanswer.float(f, '9720dc655924528b17bcda523c3e5d48');"
   ]
  },
  {
   "cell_type": "markdown",
   "metadata": {},
   "source": [
    "The function ```checkanswer.matrix()``` checks if the matrix matches the hash and take into account roundoff errors. "
   ]
  },
  {
   "cell_type": "code",
   "execution_count": null,
   "metadata": {},
   "outputs": [],
   "source": [
    "import numpy as np\n",
    "\n",
    "A = np.matrix([[1.0, 0.0], [0.0, 2.0]])\n",
    "checkanswer.matrix(A, '943d90b283d21136da008160e002a5ce')"
   ]
  },
  {
   "cell_type": "markdown",
   "metadata": {},
   "source": [
    "The function ```checkanswer.vector()``` not only checks if the vector matches the hash but also any vector that has the same direction (ignoring magnitude). \n"
   ]
  },
  {
   "cell_type": "code",
   "execution_count": null,
   "metadata": {},
   "outputs": [],
   "source": [
    "A = np.matrix([1.0, 0.0, 2.44])\n",
    "checkanswer.vector(A, 'be281882fcabe04f0c880b70169814cd')"
   ]
  },
  {
   "cell_type": "code",
   "execution_count": null,
   "metadata": {},
   "outputs": [],
   "source": [
    "import numpy as np\n",
    "\n",
    "A = np.matrix([[1.0, 0.0], [0.0, 2.0]])\n",
    "checkanswer.eq_matrix(A, '16cc361c71445fb9d404292301b0a3fb')"
   ]
  },
  {
   "cell_type": "code",
   "execution_count": null,
   "metadata": {
    "scrolled": true
   },
   "outputs": [],
   "source": [
    "A2 = np.matrix(2*A)\n",
    "checkanswer.eq_matrix(A, '16cc361c71445fb9d404292301b0a3fb')\n",
    "\n",
    "A = np.matrix([[0.0, 2.0],[1.0, 0.0]])\n",
    "checkanswer.eq_matrix(A, '16cc361c71445fb9d404292301b0a3fb')\n",
    "\n",
    "A = np.matrix([[2.0, 0.0],[0.0, 1.0]])\n",
    "checkanswer.eq_matrix(A, '16cc361c71445fb9d404292301b0a3fb')\n",
    "\n",
    "A = np.matrix([[4,0],[0,100]])*A\n",
    "checkanswer.eq_matrix(A, '16cc361c71445fb9d404292301b0a3fb')\n",
    "\n",
    "A = np.matrix([[1.0, 0.0, 2], [0.0, 2.0, 1]])\n",
    "checkanswer.eq_matrix(A, 'b975df4d16100051030dab90f432b14b')\n",
    "\n",
    "A = np.matrix([[4,0],[0,100]])*A\n",
    "checkanswer.eq_matrix(A, 'b975df4d16100051030dab90f432b14b')"
   ]
  },
  {
   "cell_type": "code",
   "execution_count": null,
   "metadata": {},
   "outputs": [],
   "source": []
  }
 ],
 "metadata": {
  "kernelspec": {
   "display_name": "Python 3",
   "language": "python",
   "name": "python3"
  },
  "language_info": {
   "codemirror_mode": {
    "name": "ipython",
    "version": 3
   },
   "file_extension": ".py",
   "mimetype": "text/x-python",
   "name": "python",
   "nbconvert_exporter": "python",
   "pygments_lexer": "ipython3",
   "version": "3.7.3"
  }
 },
 "nbformat": 4,
 "nbformat_minor": 4
}
